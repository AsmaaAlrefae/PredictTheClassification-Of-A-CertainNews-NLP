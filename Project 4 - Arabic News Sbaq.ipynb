{
 "cells": [
  {
   "cell_type": "markdown",
   "metadata": {},
   "source": [
    "## By : Asmaa Alrefae"
   ]
  },
  {
   "cell_type": "markdown",
   "metadata": {},
   "source": [
    "# Data Overview :\n"
   ]
  },
  {
   "cell_type": "markdown",
   "metadata": {},
   "source": [
    "\n",
    "__The used data is Arabic news data , which is scraped from a very popular Sauid news called Sbaq.__\n",
    "\n",
    "__It is contains 4136 news , With the following five features :__\n",
    "\n",
    "- Title : The news title .\n",
    "- Author Name : The name of the author .\n",
    "- City : The graphical location of the news.\n",
    "- Shares : How many times specific news where shared in the social media.\n",
    "- News text : The body of the news.\n",
    "- Label : The classification of the news ( locally / internationally / ...etc)"
   ]
  },
  {
   "cell_type": "markdown",
   "metadata": {},
   "source": [
    "## Problem Statement :"
   ]
  },
  {
   "cell_type": "markdown",
   "metadata": {},
   "source": [
    "__Create a model to predict the classification of a certian news , whether it is ex: locally ,Internationally ,..etc__"
   ]
  },
  {
   "cell_type": "markdown",
   "metadata": {},
   "source": [
    "# Step1 :  Clean and Prepare data "
   ]
  },
  {
   "cell_type": "code",
   "execution_count": 166,
   "metadata": {
    "ExecuteTime": {
     "end_time": "2019-12-04T09:32:14.390435Z",
     "start_time": "2019-12-04T09:32:10.759810Z"
    }
   },
   "outputs": [],
   "source": [
    "import requests\n",
    "import re\n",
    "from bs4 import BeautifulSoup\n",
    "import matplotlib.pyplot as plt\n",
    "import numpy as np\n",
    "import pandas as pd\n",
    "import seaborn as sns\n",
    "import nltk\n",
    "from nltk.stem import WordNetLemmatizer \n",
    "from nltk.tokenize import RegexpTokenizer"
   ]
  },
  {
   "cell_type": "code",
   "execution_count": 167,
   "metadata": {
    "ExecuteTime": {
     "end_time": "2019-12-04T09:32:16.430019Z",
     "start_time": "2019-12-04T09:32:16.297498Z"
    }
   },
   "outputs": [],
   "source": [
    "# This has been re-scrapped in another Jupyter book as the given data were not accurate and complete \n",
    "# Not Accurate : The title , were not matching the news text \n",
    "# Not complete : The label were not mentioned\n",
    "news = pd.read_csv('full_data.csv') "
   ]
  },
  {
   "cell_type": "code",
   "execution_count": 168,
   "metadata": {
    "ExecuteTime": {
     "end_time": "2019-12-04T09:32:16.609066Z",
     "start_time": "2019-12-04T09:32:16.604827Z"
    }
   },
   "outputs": [],
   "source": [
    "# Delete ccoulmn name \"Unnamed: 0\" as it is duplicate \n",
    "del news['Unnamed: 0']"
   ]
  },
  {
   "cell_type": "code",
   "execution_count": 169,
   "metadata": {
    "ExecuteTime": {
     "end_time": "2019-12-04T09:32:16.892363Z",
     "start_time": "2019-12-04T09:32:16.876271Z"
    }
   },
   "outputs": [
    {
     "data": {
      "text/html": [
       "<div>\n",
       "<style scoped>\n",
       "    .dataframe tbody tr th:only-of-type {\n",
       "        vertical-align: middle;\n",
       "    }\n",
       "\n",
       "    .dataframe tbody tr th {\n",
       "        vertical-align: top;\n",
       "    }\n",
       "\n",
       "    .dataframe thead th {\n",
       "        text-align: right;\n",
       "    }\n",
       "</style>\n",
       "<table border=\"1\" class=\"dataframe\">\n",
       "  <thead>\n",
       "    <tr style=\"text-align: right;\">\n",
       "      <th></th>\n",
       "      <th>title</th>\n",
       "      <th>author_name</th>\n",
       "      <th>city</th>\n",
       "      <th>shares</th>\n",
       "      <th>news_text</th>\n",
       "      <th>label</th>\n",
       "    </tr>\n",
       "  </thead>\n",
       "  <tbody>\n",
       "    <tr>\n",
       "      <td>0</td>\n",
       "      <td>الدفاع المدني بالرياض يناقش مع الهلال الأحمر...</td>\n",
       "      <td>صحيفة سبق الإلكترونية</td>\n",
       "      <td>الرياض</td>\n",
       "      <td>2</td>\n",
       "      <td>استقبل مدير الدفاع المدني بمنطقة الرياض، اللوا...</td>\n",
       "      <td>['المملكة', 'محليات']</td>\n",
       "    </tr>\n",
       "    <tr>\n",
       "      <td>1</td>\n",
       "      <td>\"أبوساق\": خطاب الملك بـ\"الشورى\" وثيقة استرات...</td>\n",
       "      <td>وكالة الأنباء السعودية (واس)</td>\n",
       "      <td>الرياض</td>\n",
       "      <td>4</td>\n",
       "      <td>عدَّ وزير الدولة عضو مجلس الوزراء لشؤون مجلس ا...</td>\n",
       "      <td>['المملكة', 'محليات']</td>\n",
       "    </tr>\n",
       "    <tr>\n",
       "      <td>2</td>\n",
       "      <td>المملكة ترفض تصريحات الحكومة الأمريكية بشأن ...</td>\n",
       "      <td>وكالة الأنباء السعودية (واس)</td>\n",
       "      <td>الرياض</td>\n",
       "      <td>5</td>\n",
       "      <td>عبر مصدر مسؤول بوزارة الخارجية عن رفضه التام ل...</td>\n",
       "      <td>['المملكة', 'محليات']</td>\n",
       "    </tr>\n",
       "    <tr>\n",
       "      <td>3</td>\n",
       "      <td>ولي العهد يستعرض مع وزير الدفاع بكوريا الجنو...</td>\n",
       "      <td>وكالة الأنباء السعودية (واس)</td>\n",
       "      <td>الرياض</td>\n",
       "      <td>6</td>\n",
       "      <td>استقبل صاحب السمو الملكي الأمير محمد بن سلمان ...</td>\n",
       "      <td>['المملكة', 'محليات']</td>\n",
       "    </tr>\n",
       "    <tr>\n",
       "      <td>4</td>\n",
       "      <td>رائدات أعمال لـ\"سبق\": وضعنا بصمات مميزة عربي...</td>\n",
       "      <td>خلود غنام</td>\n",
       "      <td>الرياض</td>\n",
       "      <td>6</td>\n",
       "      <td>انطلق، مساء أمس، ملتقى سيدات الأعمال الـ19 الم...</td>\n",
       "      <td>['المملكة', 'محليات']</td>\n",
       "    </tr>\n",
       "  </tbody>\n",
       "</table>\n",
       "</div>"
      ],
      "text/plain": [
       "                                               title  \\\n",
       "0    الدفاع المدني بالرياض يناقش مع الهلال الأحمر...   \n",
       "1    \"أبوساق\": خطاب الملك بـ\"الشورى\" وثيقة استرات...   \n",
       "2    المملكة ترفض تصريحات الحكومة الأمريكية بشأن ...   \n",
       "3    ولي العهد يستعرض مع وزير الدفاع بكوريا الجنو...   \n",
       "4    رائدات أعمال لـ\"سبق\": وضعنا بصمات مميزة عربي...   \n",
       "\n",
       "                     author_name      city shares  \\\n",
       "0         صحيفة سبق الإلكترونية    الرياض       2   \n",
       "1  وكالة الأنباء السعودية (واس)    الرياض       4   \n",
       "2  وكالة الأنباء السعودية (واس)    الرياض       5   \n",
       "3  وكالة الأنباء السعودية (واس)    الرياض       6   \n",
       "4                     خلود غنام    الرياض       6   \n",
       "\n",
       "                                           news_text                  label  \n",
       "0  استقبل مدير الدفاع المدني بمنطقة الرياض، اللوا...  ['المملكة', 'محليات']  \n",
       "1  عدَّ وزير الدولة عضو مجلس الوزراء لشؤون مجلس ا...  ['المملكة', 'محليات']  \n",
       "2  عبر مصدر مسؤول بوزارة الخارجية عن رفضه التام ل...  ['المملكة', 'محليات']  \n",
       "3  استقبل صاحب السمو الملكي الأمير محمد بن سلمان ...  ['المملكة', 'محليات']  \n",
       "4  انطلق، مساء أمس، ملتقى سيدات الأعمال الـ19 الم...  ['المملكة', 'محليات']  "
      ]
     },
     "execution_count": 169,
     "metadata": {},
     "output_type": "execute_result"
    }
   ],
   "source": [
    "news.head(5)"
   ]
  },
  {
   "cell_type": "code",
   "execution_count": 170,
   "metadata": {},
   "outputs": [
    {
     "data": {
      "text/plain": [
       "4136"
      ]
     },
     "execution_count": 170,
     "metadata": {},
     "output_type": "execute_result"
    }
   ],
   "source": [
    "# Find the length of the news \n",
    "len(news)"
   ]
  },
  {
   "cell_type": "code",
   "execution_count": 171,
   "metadata": {
    "ExecuteTime": {
     "end_time": "2019-12-04T09:32:18.280769Z",
     "start_time": "2019-12-04T09:32:17.706478Z"
    }
   },
   "outputs": [],
   "source": [
    "# Evaluate \n",
    "new = []\n",
    "#import ast\n",
    "for i in news.label:\n",
    "    a = ast.literal_eval(i)\n",
    "    #print(type(a))\n",
    "    new.append(''.join(a))"
   ]
  },
  {
   "cell_type": "code",
   "execution_count": 172,
   "metadata": {},
   "outputs": [
    {
     "name": "stdout",
     "output_type": "stream",
     "text": [
      "<class 'pandas.core.frame.DataFrame'>\n",
      "RangeIndex: 4136 entries, 0 to 4135\n",
      "Data columns (total 6 columns):\n",
      "title          4136 non-null object\n",
      "author_name    4136 non-null object\n",
      "city           4136 non-null object\n",
      "shares         4136 non-null object\n",
      "news_text      4134 non-null object\n",
      "label          4136 non-null object\n",
      "dtypes: object(6)\n",
      "memory usage: 194.0+ KB\n"
     ]
    }
   ],
   "source": [
    "news.info()"
   ]
  },
  {
   "cell_type": "code",
   "execution_count": 173,
   "metadata": {
    "ExecuteTime": {
     "end_time": "2019-12-04T09:32:18.291467Z",
     "start_time": "2019-12-04T09:32:18.286308Z"
    }
   },
   "outputs": [],
   "source": [
    "news['updated_label'] = new "
   ]
  },
  {
   "cell_type": "code",
   "execution_count": 174,
   "metadata": {
    "ExecuteTime": {
     "end_time": "2019-12-04T09:32:18.308843Z",
     "start_time": "2019-12-04T09:32:18.296351Z"
    }
   },
   "outputs": [
    {
     "data": {
      "text/html": [
       "<div>\n",
       "<style scoped>\n",
       "    .dataframe tbody tr th:only-of-type {\n",
       "        vertical-align: middle;\n",
       "    }\n",
       "\n",
       "    .dataframe tbody tr th {\n",
       "        vertical-align: top;\n",
       "    }\n",
       "\n",
       "    .dataframe thead th {\n",
       "        text-align: right;\n",
       "    }\n",
       "</style>\n",
       "<table border=\"1\" class=\"dataframe\">\n",
       "  <thead>\n",
       "    <tr style=\"text-align: right;\">\n",
       "      <th></th>\n",
       "      <th>title</th>\n",
       "      <th>author_name</th>\n",
       "      <th>city</th>\n",
       "      <th>shares</th>\n",
       "      <th>news_text</th>\n",
       "      <th>label</th>\n",
       "      <th>updated_label</th>\n",
       "    </tr>\n",
       "  </thead>\n",
       "  <tbody>\n",
       "    <tr>\n",
       "      <td>3108</td>\n",
       "      <td>\"إرهاب نصر الله على المتظاهرين في لبنان\"</td>\n",
       "      <td>صحيفة سبق الإلكترونية</td>\n",
       "      <td>الرياض</td>\n",
       "      <td>25</td>\n",
       "      <td>NaN</td>\n",
       "      <td>['كاريكاتير']</td>\n",
       "      <td>كاريكاتير</td>\n",
       "    </tr>\n",
       "    <tr>\n",
       "      <td>3893</td>\n",
       "      <td>توقيع ترامب يجبر أردوغان على الانسحاب من سوريا⁩</td>\n",
       "      <td>صحيفة سبق الإلكترونية</td>\n",
       "      <td>الرياض</td>\n",
       "      <td>40</td>\n",
       "      <td>NaN</td>\n",
       "      <td>['كاريكاتير']</td>\n",
       "      <td>كاريكاتير</td>\n",
       "    </tr>\n",
       "  </tbody>\n",
       "</table>\n",
       "</div>"
      ],
      "text/plain": [
       "                                                  title  \\\n",
       "3108           \"إرهاب نصر الله على المتظاهرين في لبنان\"   \n",
       "3893    توقيع ترامب يجبر أردوغان على الانسحاب من سوريا⁩   \n",
       "\n",
       "                 author_name      city shares news_text          label  \\\n",
       "3108  صحيفة سبق الإلكترونية    الرياض      25       NaN  ['كاريكاتير']   \n",
       "3893  صحيفة سبق الإلكترونية    الرياض      40       NaN  ['كاريكاتير']   \n",
       "\n",
       "     updated_label  \n",
       "3108     كاريكاتير  \n",
       "3893     كاريكاتير  "
      ]
     },
     "execution_count": 174,
     "metadata": {},
     "output_type": "execute_result"
    }
   ],
   "source": [
    "news[news['updated_label'] == 'كاريكاتير']"
   ]
  },
  {
   "cell_type": "code",
   "execution_count": 175,
   "metadata": {
    "ExecuteTime": {
     "end_time": "2019-12-04T09:32:19.374977Z",
     "start_time": "2019-12-04T09:32:19.365304Z"
    }
   },
   "outputs": [],
   "source": [
    "# Drop the news with tilte \"كاريكاتير\" , as it is the reason for the missing in coulmn news_text\n",
    "news.dropna(inplace=True)"
   ]
  },
  {
   "cell_type": "code",
   "execution_count": 176,
   "metadata": {
    "ExecuteTime": {
     "end_time": "2019-12-04T09:32:19.667911Z",
     "start_time": "2019-12-04T09:32:19.656224Z"
    }
   },
   "outputs": [
    {
     "name": "stdout",
     "output_type": "stream",
     "text": [
      "<class 'pandas.core.frame.DataFrame'>\n",
      "Int64Index: 4134 entries, 0 to 4135\n",
      "Data columns (total 7 columns):\n",
      "title            4134 non-null object\n",
      "author_name      4134 non-null object\n",
      "city             4134 non-null object\n",
      "shares           4134 non-null object\n",
      "news_text        4134 non-null object\n",
      "label            4134 non-null object\n",
      "updated_label    4134 non-null object\n",
      "dtypes: object(7)\n",
      "memory usage: 258.4+ KB\n"
     ]
    }
   ],
   "source": [
    "news.info()"
   ]
  },
  {
   "cell_type": "code",
   "execution_count": 177,
   "metadata": {},
   "outputs": [
    {
     "data": {
      "text/html": [
       "<div>\n",
       "<style scoped>\n",
       "    .dataframe tbody tr th:only-of-type {\n",
       "        vertical-align: middle;\n",
       "    }\n",
       "\n",
       "    .dataframe tbody tr th {\n",
       "        vertical-align: top;\n",
       "    }\n",
       "\n",
       "    .dataframe thead th {\n",
       "        text-align: right;\n",
       "    }\n",
       "</style>\n",
       "<table border=\"1\" class=\"dataframe\">\n",
       "  <thead>\n",
       "    <tr style=\"text-align: right;\">\n",
       "      <th></th>\n",
       "      <th>title</th>\n",
       "      <th>author_name</th>\n",
       "      <th>city</th>\n",
       "      <th>shares</th>\n",
       "      <th>news_text</th>\n",
       "      <th>label</th>\n",
       "      <th>updated_label</th>\n",
       "    </tr>\n",
       "  </thead>\n",
       "  <tbody>\n",
       "    <tr>\n",
       "      <td>0</td>\n",
       "      <td>الدفاع المدني بالرياض يناقش مع الهلال الأحمر...</td>\n",
       "      <td>صحيفة سبق الإلكترونية</td>\n",
       "      <td>الرياض</td>\n",
       "      <td>2</td>\n",
       "      <td>استقبل مدير الدفاع المدني بمنطقة الرياض، اللوا...</td>\n",
       "      <td>['المملكة', 'محليات']</td>\n",
       "      <td>المملكةمحليات</td>\n",
       "    </tr>\n",
       "    <tr>\n",
       "      <td>1</td>\n",
       "      <td>\"أبوساق\": خطاب الملك بـ\"الشورى\" وثيقة استرات...</td>\n",
       "      <td>وكالة الأنباء السعودية (واس)</td>\n",
       "      <td>الرياض</td>\n",
       "      <td>4</td>\n",
       "      <td>عدَّ وزير الدولة عضو مجلس الوزراء لشؤون مجلس ا...</td>\n",
       "      <td>['المملكة', 'محليات']</td>\n",
       "      <td>المملكةمحليات</td>\n",
       "    </tr>\n",
       "    <tr>\n",
       "      <td>2</td>\n",
       "      <td>المملكة ترفض تصريحات الحكومة الأمريكية بشأن ...</td>\n",
       "      <td>وكالة الأنباء السعودية (واس)</td>\n",
       "      <td>الرياض</td>\n",
       "      <td>5</td>\n",
       "      <td>عبر مصدر مسؤول بوزارة الخارجية عن رفضه التام ل...</td>\n",
       "      <td>['المملكة', 'محليات']</td>\n",
       "      <td>المملكةمحليات</td>\n",
       "    </tr>\n",
       "  </tbody>\n",
       "</table>\n",
       "</div>"
      ],
      "text/plain": [
       "                                               title  \\\n",
       "0    الدفاع المدني بالرياض يناقش مع الهلال الأحمر...   \n",
       "1    \"أبوساق\": خطاب الملك بـ\"الشورى\" وثيقة استرات...   \n",
       "2    المملكة ترفض تصريحات الحكومة الأمريكية بشأن ...   \n",
       "\n",
       "                     author_name      city shares  \\\n",
       "0         صحيفة سبق الإلكترونية    الرياض       2   \n",
       "1  وكالة الأنباء السعودية (واس)    الرياض       4   \n",
       "2  وكالة الأنباء السعودية (واس)    الرياض       5   \n",
       "\n",
       "                                           news_text                  label  \\\n",
       "0  استقبل مدير الدفاع المدني بمنطقة الرياض، اللوا...  ['المملكة', 'محليات']   \n",
       "1  عدَّ وزير الدولة عضو مجلس الوزراء لشؤون مجلس ا...  ['المملكة', 'محليات']   \n",
       "2  عبر مصدر مسؤول بوزارة الخارجية عن رفضه التام ل...  ['المملكة', 'محليات']   \n",
       "\n",
       "   updated_label  \n",
       "0  المملكةمحليات  \n",
       "1  المملكةمحليات  \n",
       "2  المملكةمحليات  "
      ]
     },
     "execution_count": 177,
     "metadata": {},
     "output_type": "execute_result"
    }
   ],
   "source": [
    "#Check the Data after the cleaning \n",
    "news.head(3)"
   ]
  },
  {
   "cell_type": "markdown",
   "metadata": {},
   "source": [
    "# Step2 : Apply NLP "
   ]
  },
  {
   "cell_type": "code",
   "execution_count": 178,
   "metadata": {
    "scrolled": true
   },
   "outputs": [
    {
     "name": "stdout",
     "output_type": "stream",
     "text": [
      "Requirement already satisfied: tashaphyne in /Users/asmaa/opt/anaconda3/lib/python3.7/site-packages (0.3.4)\n",
      "Requirement already satisfied: pyarabic in /Users/asmaa/opt/anaconda3/lib/python3.7/site-packages (from tashaphyne) (0.6.6)\n",
      "Note: you may need to restart the kernel to use updated packages.\n"
     ]
    }
   ],
   "source": [
    "pip install tashaphyne"
   ]
  },
  {
   "cell_type": "code",
   "execution_count": 179,
   "metadata": {
    "ExecuteTime": {
     "end_time": "2019-12-04T09:32:21.134516Z",
     "start_time": "2019-12-04T09:32:21.049234Z"
    }
   },
   "outputs": [],
   "source": [
    "import pyarabic.arabrepr\n",
    "arepr = pyarabic.arabrepr.ArabicRepr() \n",
    "repr = arepr.repr\n",
    "from tashaphyne.stemming import ArabicLightStemmer\n",
    "from nltk.tokenize import RegexpTokenizer\n",
    "from nltk.corpus import stopwords"
   ]
  },
  {
   "cell_type": "code",
   "execution_count": 180,
   "metadata": {
    "ExecuteTime": {
     "end_time": "2019-12-04T09:50:51.587316Z",
     "start_time": "2019-12-04T09:50:51.581604Z"
    }
   },
   "outputs": [],
   "source": [
    "def review_to_words(raw_review):\n",
    "    '''\n",
    "    Function to convert a raw review to a string of words\n",
    "    The input is a single string (a raw movie review), and \n",
    "    the output is a single string (a preprocessed movie review)\n",
    "    '''\n",
    "    ArListem = ArabicLightStemmer()\n",
    "    \n",
    "    # 1.Tokenizer\n",
    "    tokenizer = RegexpTokenizer(r'\\w+')\n",
    "    tokens = tokenizer.tokenize(raw_review)\n",
    "    \n",
    "    # 2. Stop Words list\n",
    "    stopWords = open(\"list.txt\").read().splitlines()\n",
    "    stops = set(stopWords) #convert it to set for faster search \n",
    "            \n",
    "    # 3. Remove stop words\n",
    "    tokens = [i for i in tokens if not i in stops]\n",
    "    \n",
    "    # 4. Apply the ArListem.light_stem to the tokens list\n",
    "    # which will almost return the root of the word\n",
    "    \n",
    "    stemmed_words = [ArListem.light_stem(i) for i in tokens]\n",
    "    \n",
    "    # and return the result.\n",
    "\n",
    "    return(\" \".join(stemmed_words))\n"
   ]
  },
  {
   "cell_type": "markdown",
   "metadata": {},
   "source": [
    "## Applying the function \"review_to_words\" and creating a new list to append the data in it"
   ]
  },
  {
   "cell_type": "code",
   "execution_count": 181,
   "metadata": {
    "ExecuteTime": {
     "end_time": "2019-12-04T09:51:30.942395Z",
     "start_time": "2019-12-04T09:50:52.467416Z"
    }
   },
   "outputs": [
    {
     "name": "stdout",
     "output_type": "stream",
     "text": [
      "Cleaning and parsing the training set news label......\n",
      "There are 4134 news_text.\n",
      "Review 100 of 4134.\n",
      "Review 200 of 4134.\n",
      "Review 300 of 4134.\n",
      "Review 400 of 4134.\n",
      "Review 500 of 4134.\n",
      "Review 600 of 4134.\n",
      "Review 700 of 4134.\n",
      "Review 800 of 4134.\n",
      "Review 900 of 4134.\n",
      "Review 1000 of 4134.\n",
      "Review 1100 of 4134.\n",
      "Review 1200 of 4134.\n",
      "Review 1300 of 4134.\n",
      "Review 1400 of 4134.\n",
      "Review 1500 of 4134.\n",
      "Review 1600 of 4134.\n",
      "Review 1700 of 4134.\n",
      "Review 1800 of 4134.\n",
      "Review 1900 of 4134.\n",
      "Review 2000 of 4134.\n",
      "Review 2100 of 4134.\n",
      "Review 2200 of 4134.\n",
      "Review 2300 of 4134.\n",
      "Review 2400 of 4134.\n",
      "Review 2500 of 4134.\n",
      "Review 2600 of 4134.\n",
      "Review 2700 of 4134.\n",
      "Review 2800 of 4134.\n",
      "Review 2900 of 4134.\n",
      "Review 3000 of 4134.\n",
      "Review 3100 of 4134.\n",
      "Review 3200 of 4134.\n",
      "Review 3300 of 4134.\n",
      "Review 3400 of 4134.\n",
      "Review 3500 of 4134.\n",
      "Review 3600 of 4134.\n",
      "Review 3700 of 4134.\n",
      "Review 3800 of 4134.\n",
      "Review 3900 of 4134.\n",
      "Review 4000 of 4134.\n",
      "Review 4100 of 4134.\n",
      "All done!\n"
     ]
    }
   ],
   "source": [
    "print(\"Cleaning and parsing the training set news label......\") # good to know what is going on!\n",
    "\n",
    "# Initialize empty lists to hold the clean news.\n",
    "clean_news = []\n",
    "\n",
    "# Let's grab the number to run the loop!\n",
    "total_news = news.shape[0]\n",
    "print(f'There are {total_news} news_text.')\n",
    "\n",
    "j = 0 #  counter\n",
    "#for train_review in X_train['review']:\n",
    "\n",
    "for text in news['news_text']:\n",
    "    \n",
    "    # Convert news to words, then append to clean_train_news.\n",
    "    clean_news.append(review_to_words(text)) # <shift+tab> to see the doc for your own function!\n",
    "    \n",
    "    # If the index is divisible by 1000, print a message\n",
    "    if (j + 1) % 100 == 0:\n",
    "        print(f'Review {j + 1} of {total_news}.') \n",
    "    \n",
    "    j += 1 # adding 1 to the counter \n",
    "\n",
    "print(\"All done!\")"
   ]
  },
  {
   "cell_type": "code",
   "execution_count": 182,
   "metadata": {
    "ExecuteTime": {
     "end_time": "2019-12-04T09:51:40.636035Z",
     "start_time": "2019-12-04T09:51:40.630302Z"
    }
   },
   "outputs": [
    {
     "data": {
      "text/plain": [
       "'ستقبل مدير دفاع مدن منطق رياض لواء خالد حرق مدير إدار عام فرع هيئ هلال أحمر سعود منطق رياض سعود حرب ذلك مناقش سبل تعا إطار عمل ميدان جه دا لقاء كد لواء خالد حرق تعا جه مشدد هم عزيز تنسيق مدير دفاع مدن هلال أحمر منطق تخاذ تدابير إجراء لازم حما سلام مواطن مقيم مخاطر قديم مساعد ذليل مصاعب حصل رض ميد حرب شكر قدير واء خالد حرق حفاو استقبال كد تعا ظل مستمر إذن له عالى خدم مواطن مقيم ما خدم صالح عام لقاء سلم لواء حرق درع ذكار سعود حرب فيما حضر لقاء مساعد مدير دفاع مدن شؤو عمل منطق مدير إدار إطفاء إنقاذ عميد عبدالل سحيبان ضباط مدير هلال أحمر حضر مدير إدار قياد ميدان مشرف غرف عمل عبدالمحسن حرب مدير إدار اتصال مؤسس متحدث رسم هلال أحمر سعود منطق رياض ياسر جلاجل'"
      ]
     },
     "execution_count": 182,
     "metadata": {},
     "output_type": "execute_result"
    }
   ],
   "source": [
    "#Checking the item 0 in the clean_news list\n",
    "clean_news[0]"
   ]
  },
  {
   "cell_type": "code",
   "execution_count": 183,
   "metadata": {
    "ExecuteTime": {
     "end_time": "2019-12-04T09:51:54.933793Z",
     "start_time": "2019-12-04T09:51:54.928195Z"
    }
   },
   "outputs": [
    {
     "data": {
      "text/plain": [
       "4134"
      ]
     },
     "execution_count": 183,
     "metadata": {},
     "output_type": "execute_result"
    }
   ],
   "source": [
    "#Checking the length of the clean_news list \n",
    "len(clean_news)"
   ]
  },
  {
   "cell_type": "code",
   "execution_count": 184,
   "metadata": {
    "ExecuteTime": {
     "end_time": "2019-12-04T09:51:55.950263Z",
     "start_time": "2019-12-04T09:51:55.944785Z"
    }
   },
   "outputs": [],
   "source": [
    "# Creating a coulmn named \"cleaned\" to include the \n",
    "news['cleaned']  = clean_news"
   ]
  },
  {
   "cell_type": "code",
   "execution_count": 185,
   "metadata": {
    "ExecuteTime": {
     "end_time": "2019-12-04T09:51:58.571120Z",
     "start_time": "2019-12-04T09:51:58.543638Z"
    }
   },
   "outputs": [
    {
     "data": {
      "text/html": [
       "<div>\n",
       "<style scoped>\n",
       "    .dataframe tbody tr th:only-of-type {\n",
       "        vertical-align: middle;\n",
       "    }\n",
       "\n",
       "    .dataframe tbody tr th {\n",
       "        vertical-align: top;\n",
       "    }\n",
       "\n",
       "    .dataframe thead th {\n",
       "        text-align: right;\n",
       "    }\n",
       "</style>\n",
       "<table border=\"1\" class=\"dataframe\">\n",
       "  <thead>\n",
       "    <tr style=\"text-align: right;\">\n",
       "      <th></th>\n",
       "      <th>title</th>\n",
       "      <th>author_name</th>\n",
       "      <th>city</th>\n",
       "      <th>shares</th>\n",
       "      <th>news_text</th>\n",
       "      <th>label</th>\n",
       "      <th>updated_label</th>\n",
       "      <th>cleaned</th>\n",
       "    </tr>\n",
       "  </thead>\n",
       "  <tbody>\n",
       "    <tr>\n",
       "      <td>0</td>\n",
       "      <td>الدفاع المدني بالرياض يناقش مع الهلال الأحمر...</td>\n",
       "      <td>صحيفة سبق الإلكترونية</td>\n",
       "      <td>الرياض</td>\n",
       "      <td>2</td>\n",
       "      <td>استقبل مدير الدفاع المدني بمنطقة الرياض، اللوا...</td>\n",
       "      <td>['المملكة', 'محليات']</td>\n",
       "      <td>المملكةمحليات</td>\n",
       "      <td>ستقبل مدير دفاع مدن منطق رياض لواء خالد حرق مد...</td>\n",
       "    </tr>\n",
       "    <tr>\n",
       "      <td>1</td>\n",
       "      <td>\"أبوساق\": خطاب الملك بـ\"الشورى\" وثيقة استرات...</td>\n",
       "      <td>وكالة الأنباء السعودية (واس)</td>\n",
       "      <td>الرياض</td>\n",
       "      <td>4</td>\n",
       "      <td>عدَّ وزير الدولة عضو مجلس الوزراء لشؤون مجلس ا...</td>\n",
       "      <td>['المملكة', 'محليات']</td>\n",
       "      <td>المملكةمحليات</td>\n",
       "      <td>عد زير دول عض مجلس وزراء شؤو مجلس شورى محمد صل...</td>\n",
       "    </tr>\n",
       "    <tr>\n",
       "      <td>2</td>\n",
       "      <td>المملكة ترفض تصريحات الحكومة الأمريكية بشأن ...</td>\n",
       "      <td>وكالة الأنباء السعودية (واس)</td>\n",
       "      <td>الرياض</td>\n",
       "      <td>5</td>\n",
       "      <td>عبر مصدر مسؤول بوزارة الخارجية عن رفضه التام ل...</td>\n",
       "      <td>['المملكة', 'محليات']</td>\n",
       "      <td>المملكةمحليات</td>\n",
       "      <td>عبر مصدر مسؤول وزار خارج رفض تام تصريح حكوم أم...</td>\n",
       "    </tr>\n",
       "    <tr>\n",
       "      <td>3</td>\n",
       "      <td>ولي العهد يستعرض مع وزير الدفاع بكوريا الجنو...</td>\n",
       "      <td>وكالة الأنباء السعودية (واس)</td>\n",
       "      <td>الرياض</td>\n",
       "      <td>6</td>\n",
       "      <td>استقبل صاحب السمو الملكي الأمير محمد بن سلمان ...</td>\n",
       "      <td>['المملكة', 'محليات']</td>\n",
       "      <td>المملكةمحليات</td>\n",
       "      <td>ستقبل صاحب سمو ملك أمير محمد سلم عبدالعزيز لي ...</td>\n",
       "    </tr>\n",
       "    <tr>\n",
       "      <td>4</td>\n",
       "      <td>رائدات أعمال لـ\"سبق\": وضعنا بصمات مميزة عربي...</td>\n",
       "      <td>خلود غنام</td>\n",
       "      <td>الرياض</td>\n",
       "      <td>6</td>\n",
       "      <td>انطلق، مساء أمس، ملتقى سيدات الأعمال الـ19 الم...</td>\n",
       "      <td>['المملكة', 'محليات']</td>\n",
       "      <td>المملكةمحليات</td>\n",
       "      <td>نطلق ملتقى سيد أعمال ـ19 مقام قاع خزامى مناسب ...</td>\n",
       "    </tr>\n",
       "  </tbody>\n",
       "</table>\n",
       "</div>"
      ],
      "text/plain": [
       "                                               title  \\\n",
       "0    الدفاع المدني بالرياض يناقش مع الهلال الأحمر...   \n",
       "1    \"أبوساق\": خطاب الملك بـ\"الشورى\" وثيقة استرات...   \n",
       "2    المملكة ترفض تصريحات الحكومة الأمريكية بشأن ...   \n",
       "3    ولي العهد يستعرض مع وزير الدفاع بكوريا الجنو...   \n",
       "4    رائدات أعمال لـ\"سبق\": وضعنا بصمات مميزة عربي...   \n",
       "\n",
       "                     author_name      city shares  \\\n",
       "0         صحيفة سبق الإلكترونية    الرياض       2   \n",
       "1  وكالة الأنباء السعودية (واس)    الرياض       4   \n",
       "2  وكالة الأنباء السعودية (واس)    الرياض       5   \n",
       "3  وكالة الأنباء السعودية (واس)    الرياض       6   \n",
       "4                     خلود غنام    الرياض       6   \n",
       "\n",
       "                                           news_text                  label  \\\n",
       "0  استقبل مدير الدفاع المدني بمنطقة الرياض، اللوا...  ['المملكة', 'محليات']   \n",
       "1  عدَّ وزير الدولة عضو مجلس الوزراء لشؤون مجلس ا...  ['المملكة', 'محليات']   \n",
       "2  عبر مصدر مسؤول بوزارة الخارجية عن رفضه التام ل...  ['المملكة', 'محليات']   \n",
       "3  استقبل صاحب السمو الملكي الأمير محمد بن سلمان ...  ['المملكة', 'محليات']   \n",
       "4  انطلق، مساء أمس، ملتقى سيدات الأعمال الـ19 الم...  ['المملكة', 'محليات']   \n",
       "\n",
       "   updated_label                                            cleaned  \n",
       "0  المملكةمحليات  ستقبل مدير دفاع مدن منطق رياض لواء خالد حرق مد...  \n",
       "1  المملكةمحليات  عد زير دول عض مجلس وزراء شؤو مجلس شورى محمد صل...  \n",
       "2  المملكةمحليات  عبر مصدر مسؤول وزار خارج رفض تام تصريح حكوم أم...  \n",
       "3  المملكةمحليات  ستقبل صاحب سمو ملك أمير محمد سلم عبدالعزيز لي ...  \n",
       "4  المملكةمحليات  نطلق ملتقى سيد أعمال ـ19 مقام قاع خزامى مناسب ...  "
      ]
     },
     "execution_count": 185,
     "metadata": {},
     "output_type": "execute_result"
    }
   ],
   "source": [
    "#Checking The Data after updating the new column\n",
    "news.head(5)"
   ]
  },
  {
   "cell_type": "markdown",
   "metadata": {},
   "source": [
    "# Step3: Data is ready\n",
    "\n",
    "**Vectorization using `CountVectorizer`:**<br>\n"
   ]
  },
  {
   "cell_type": "code",
   "execution_count": 186,
   "metadata": {
    "ExecuteTime": {
     "end_time": "2019-12-04T09:52:04.661493Z",
     "start_time": "2019-12-04T09:52:04.657833Z"
    }
   },
   "outputs": [],
   "source": [
    "from sklearn.feature_extraction.text import CountVectorizer"
   ]
  },
  {
   "cell_type": "code",
   "execution_count": 187,
   "metadata": {},
   "outputs": [],
   "source": [
    "vectorizer = CountVectorizer(analyzer = \"word\", #<shift+tab> \n",
    "                             tokenizer = None,\n",
    "                             preprocessor = None,\n",
    "                             stop_words = None,\n",
    "                             max_features = 5000) "
   ]
  },
  {
   "cell_type": "code",
   "execution_count": 188,
   "metadata": {
    "ExecuteTime": {
     "end_time": "2019-12-04T09:55:15.021519Z",
     "start_time": "2019-12-04T09:55:14.534548Z"
    }
   },
   "outputs": [],
   "source": [
    "data_features = vectorizer.fit_transform(clean_news)"
   ]
  },
  {
   "cell_type": "code",
   "execution_count": 189,
   "metadata": {
    "ExecuteTime": {
     "end_time": "2019-12-04T09:55:47.267931Z",
     "start_time": "2019-12-04T09:55:47.241646Z"
    }
   },
   "outputs": [],
   "source": [
    "vocab = vectorizer.get_feature_names()"
   ]
  },
  {
   "cell_type": "code",
   "execution_count": 190,
   "metadata": {
    "ExecuteTime": {
     "end_time": "2019-12-04T09:56:04.316622Z",
     "start_time": "2019-12-04T09:56:04.312955Z"
    }
   },
   "outputs": [
    {
     "data": {
      "text/plain": [
       "<4134x5000 sparse matrix of type '<class 'numpy.int64'>'\n",
       "\twith 428291 stored elements in Compressed Sparse Row format>"
      ]
     },
     "execution_count": 190,
     "metadata": {},
     "output_type": "execute_result"
    }
   ],
   "source": [
    "data_features"
   ]
  },
  {
   "cell_type": "code",
   "execution_count": 191,
   "metadata": {
    "ExecuteTime": {
     "end_time": "2019-12-04T09:56:13.790802Z",
     "start_time": "2019-12-04T09:56:13.578278Z"
    }
   },
   "outputs": [],
   "source": [
    "data_features = data_features.toarray()"
   ]
  },
  {
   "cell_type": "code",
   "execution_count": 192,
   "metadata": {
    "ExecuteTime": {
     "end_time": "2019-12-04T09:56:28.994145Z",
     "start_time": "2019-12-04T09:56:28.960837Z"
    }
   },
   "outputs": [],
   "source": [
    "df = pd.DataFrame(data_features, columns = vectorizer.get_feature_names())"
   ]
  },
  {
   "cell_type": "code",
   "execution_count": 193,
   "metadata": {
    "ExecuteTime": {
     "end_time": "2019-12-04T09:56:39.043312Z",
     "start_time": "2019-12-04T09:56:39.022759Z"
    }
   },
   "outputs": [
    {
     "data": {
      "text/html": [
       "<div>\n",
       "<style scoped>\n",
       "    .dataframe tbody tr th:only-of-type {\n",
       "        vertical-align: middle;\n",
       "    }\n",
       "\n",
       "    .dataframe tbody tr th {\n",
       "        vertical-align: top;\n",
       "    }\n",
       "\n",
       "    .dataframe thead th {\n",
       "        text-align: right;\n",
       "    }\n",
       "</style>\n",
       "<table border=\"1\" class=\"dataframe\">\n",
       "  <thead>\n",
       "    <tr style=\"text-align: right;\">\n",
       "      <th></th>\n",
       "      <th>00</th>\n",
       "      <th>000</th>\n",
       "      <th>03</th>\n",
       "      <th>04</th>\n",
       "      <th>06</th>\n",
       "      <th>07</th>\n",
       "      <th>10</th>\n",
       "      <th>100</th>\n",
       "      <th>1000</th>\n",
       "      <th>11</th>\n",
       "      <th>...</th>\n",
       "      <th>يوم</th>\n",
       "      <th>يونايتد</th>\n",
       "      <th>يونسكو</th>\n",
       "      <th>١١</th>\n",
       "      <th>١٤٤١هـ</th>\n",
       "      <th>٢٠١٩م</th>\n",
       "      <th>٢٠٣٠</th>\n",
       "      <th>٢٤</th>\n",
       "      <th>٣٠</th>\n",
       "      <th>٥٠</th>\n",
       "    </tr>\n",
       "  </thead>\n",
       "  <tbody>\n",
       "    <tr>\n",
       "      <td>0</td>\n",
       "      <td>0</td>\n",
       "      <td>0</td>\n",
       "      <td>0</td>\n",
       "      <td>0</td>\n",
       "      <td>0</td>\n",
       "      <td>0</td>\n",
       "      <td>0</td>\n",
       "      <td>0</td>\n",
       "      <td>0</td>\n",
       "      <td>0</td>\n",
       "      <td>...</td>\n",
       "      <td>0</td>\n",
       "      <td>0</td>\n",
       "      <td>0</td>\n",
       "      <td>0</td>\n",
       "      <td>0</td>\n",
       "      <td>0</td>\n",
       "      <td>0</td>\n",
       "      <td>0</td>\n",
       "      <td>0</td>\n",
       "      <td>0</td>\n",
       "    </tr>\n",
       "    <tr>\n",
       "      <td>1</td>\n",
       "      <td>0</td>\n",
       "      <td>0</td>\n",
       "      <td>0</td>\n",
       "      <td>0</td>\n",
       "      <td>0</td>\n",
       "      <td>0</td>\n",
       "      <td>0</td>\n",
       "      <td>0</td>\n",
       "      <td>0</td>\n",
       "      <td>0</td>\n",
       "      <td>...</td>\n",
       "      <td>0</td>\n",
       "      <td>0</td>\n",
       "      <td>0</td>\n",
       "      <td>0</td>\n",
       "      <td>0</td>\n",
       "      <td>0</td>\n",
       "      <td>0</td>\n",
       "      <td>0</td>\n",
       "      <td>0</td>\n",
       "      <td>0</td>\n",
       "    </tr>\n",
       "  </tbody>\n",
       "</table>\n",
       "<p>2 rows × 5000 columns</p>\n",
       "</div>"
      ],
      "text/plain": [
       "   00  000  03  04  06  07  10  100  1000  11  ...  يوم  يونايتد  يونسكو  ١١  \\\n",
       "0   0    0   0   0   0   0   0    0     0   0  ...    0        0       0   0   \n",
       "1   0    0   0   0   0   0   0    0     0   0  ...    0        0       0   0   \n",
       "\n",
       "   ١٤٤١هـ  ٢٠١٩م  ٢٠٣٠  ٢٤  ٣٠  ٥٠  \n",
       "0       0      0     0   0   0   0  \n",
       "1       0      0     0   0   0   0  \n",
       "\n",
       "[2 rows x 5000 columns]"
      ]
     },
     "execution_count": 193,
     "metadata": {},
     "output_type": "execute_result"
    }
   ],
   "source": [
    "df.head(2)"
   ]
  },
  {
   "cell_type": "markdown",
   "metadata": {},
   "source": [
    "# Import train_test_split\n"
   ]
  },
  {
   "cell_type": "code",
   "execution_count": 194,
   "metadata": {
    "ExecuteTime": {
     "end_time": "2019-12-04T10:00:17.619221Z",
     "start_time": "2019-12-04T10:00:17.152361Z"
    }
   },
   "outputs": [],
   "source": [
    "# Import train_test_split.\n",
    "from sklearn.model_selection import train_test_split\n",
    "\n",
    "# Features and target\n",
    "X = df\n",
    "y = news['updated_label']\n",
    "\n",
    "# Create train_test_split.\n",
    "X_train, X_test, y_train, y_test = train_test_split(X, y, test_size = 0.25, random_state = 42 )#, stratify = True)"
   ]
  },
  {
   "cell_type": "markdown",
   "metadata": {},
   "source": [
    "# Applying LogisticRegression"
   ]
  },
  {
   "cell_type": "code",
   "execution_count": 195,
   "metadata": {
    "ExecuteTime": {
     "end_time": "2019-12-04T10:01:57.678000Z",
     "start_time": "2019-12-04T10:01:57.675255Z"
    }
   },
   "outputs": [],
   "source": [
    "from sklearn.linear_model import LogisticRegression"
   ]
  },
  {
   "cell_type": "code",
   "execution_count": 196,
   "metadata": {
    "ExecuteTime": {
     "end_time": "2019-12-04T10:01:58.125647Z",
     "start_time": "2019-12-04T10:01:58.122527Z"
    }
   },
   "outputs": [],
   "source": [
    "lr = LogisticRegression()"
   ]
  },
  {
   "cell_type": "code",
   "execution_count": 197,
   "metadata": {
    "ExecuteTime": {
     "end_time": "2019-12-04T10:02:02.075232Z",
     "start_time": "2019-12-04T10:01:58.665273Z"
    }
   },
   "outputs": [
    {
     "name": "stderr",
     "output_type": "stream",
     "text": [
      "/Users/asmaa/opt/anaconda3/lib/python3.7/site-packages/sklearn/linear_model/logistic.py:432: FutureWarning: Default solver will be changed to 'lbfgs' in 0.22. Specify a solver to silence this warning.\n",
      "  FutureWarning)\n",
      "/Users/asmaa/opt/anaconda3/lib/python3.7/site-packages/sklearn/linear_model/logistic.py:469: FutureWarning: Default multi_class will be changed to 'auto' in 0.22. Specify the multi_class option to silence this warning.\n",
      "  \"this warning.\", FutureWarning)\n"
     ]
    },
    {
     "data": {
      "text/plain": [
       "LogisticRegression(C=1.0, class_weight=None, dual=False, fit_intercept=True,\n",
       "                   intercept_scaling=1, l1_ratio=None, max_iter=100,\n",
       "                   multi_class='warn', n_jobs=None, penalty='l2',\n",
       "                   random_state=None, solver='warn', tol=0.0001, verbose=0,\n",
       "                   warm_start=False)"
      ]
     },
     "execution_count": 197,
     "metadata": {},
     "output_type": "execute_result"
    }
   ],
   "source": [
    "lr.fit(X_train, y_train)"
   ]
  },
  {
   "cell_type": "code",
   "execution_count": 198,
   "metadata": {
    "ExecuteTime": {
     "end_time": "2019-12-04T10:02:02.513777Z",
     "start_time": "2019-12-04T10:02:02.077230Z"
    }
   },
   "outputs": [
    {
     "data": {
      "text/plain": [
       "1.0"
      ]
     },
     "execution_count": 198,
     "metadata": {},
     "output_type": "execute_result"
    }
   ],
   "source": [
    "lr.score(X_train, y_train)"
   ]
  },
  {
   "cell_type": "code",
   "execution_count": 199,
   "metadata": {
    "ExecuteTime": {
     "end_time": "2019-12-04T10:02:07.183550Z",
     "start_time": "2019-12-04T10:02:07.029385Z"
    },
    "scrolled": true
   },
   "outputs": [
    {
     "data": {
      "text/plain": [
       "0.879110251450677"
      ]
     },
     "execution_count": 199,
     "metadata": {},
     "output_type": "execute_result"
    }
   ],
   "source": [
    "lr.score(X_test, y_test)"
   ]
  },
  {
   "cell_type": "markdown",
   "metadata": {},
   "source": [
    " <font color='green'> __The lr score is almost good 0.88__   </font> "
   ]
  },
  {
   "cell_type": "markdown",
   "metadata": {},
   "source": [
    "## Try the Naive Bayes, using TF-IDF."
   ]
  },
  {
   "cell_type": "code",
   "execution_count": 200,
   "metadata": {
    "ExecuteTime": {
     "end_time": "2019-12-04T10:04:19.088726Z",
     "start_time": "2019-12-04T10:04:19.085270Z"
    }
   },
   "outputs": [],
   "source": [
    "from sklearn.feature_extraction.text import TfidfTransformer"
   ]
  },
  {
   "cell_type": "code",
   "execution_count": 201,
   "metadata": {
    "ExecuteTime": {
     "end_time": "2019-12-04T10:04:30.101225Z",
     "start_time": "2019-12-04T10:04:29.617977Z"
    }
   },
   "outputs": [
    {
     "data": {
      "text/plain": [
       "TfidfTransformer(norm='l2', smooth_idf=True, sublinear_tf=False, use_idf=True)"
      ]
     },
     "execution_count": 201,
     "metadata": {},
     "output_type": "execute_result"
    }
   ],
   "source": [
    "# Let's create an instance for TfidfTransformer and fit to the df -- See above, its your sparse df\n",
    "tfidf_trans = TfidfTransformer()\n",
    "tfidf_trans.fit(df)"
   ]
  },
  {
   "cell_type": "code",
   "execution_count": 202,
   "metadata": {
    "ExecuteTime": {
     "end_time": "2019-12-04T10:04:41.201882Z",
     "start_time": "2019-12-04T10:04:40.048346Z"
    }
   },
   "outputs": [],
   "source": [
    "df_tfidf = tfidf_trans.transform(df)"
   ]
  },
  {
   "cell_type": "markdown",
   "metadata": {},
   "source": [
    "# Importing the multinomial Naive Bayes model "
   ]
  },
  {
   "cell_type": "code",
   "execution_count": 203,
   "metadata": {
    "ExecuteTime": {
     "end_time": "2019-12-04T10:05:22.725770Z",
     "start_time": "2019-12-04T10:05:22.715690Z"
    }
   },
   "outputs": [],
   "source": [
    "from sklearn.naive_bayes import MultinomialNB"
   ]
  },
  {
   "cell_type": "code",
   "execution_count": 204,
   "metadata": {
    "ExecuteTime": {
     "end_time": "2019-12-04T10:05:34.009216Z",
     "start_time": "2019-12-04T10:05:34.005606Z"
    }
   },
   "outputs": [],
   "source": [
    "# creating instance\n",
    "model_nb = MultinomialNB() # <Shift+tab> for doc string"
   ]
  },
  {
   "cell_type": "code",
   "execution_count": 205,
   "metadata": {
    "ExecuteTime": {
     "end_time": "2019-12-04T10:05:42.602237Z",
     "start_time": "2019-12-04T10:05:42.475360Z"
    }
   },
   "outputs": [],
   "source": [
    "# train test split\n",
    "X_train, X_test, y_train, y_test = train_test_split(df_tfidf, y, test_size = 0.25, random_state = 42)"
   ]
  },
  {
   "cell_type": "code",
   "execution_count": 206,
   "metadata": {
    "ExecuteTime": {
     "end_time": "2019-12-04T10:05:54.272680Z",
     "start_time": "2019-12-04T10:05:54.228402Z"
    }
   },
   "outputs": [
    {
     "data": {
      "text/plain": [
       "MultinomialNB(alpha=1.0, class_prior=None, fit_prior=True)"
      ]
     },
     "execution_count": 206,
     "metadata": {},
     "output_type": "execute_result"
    }
   ],
   "source": [
    "# training on train data\n",
    "model_nb.fit(X_train, y_train)"
   ]
  },
  {
   "cell_type": "code",
   "execution_count": 207,
   "metadata": {
    "ExecuteTime": {
     "end_time": "2019-12-04T10:06:33.729872Z",
     "start_time": "2019-12-04T10:06:33.708377Z"
    }
   },
   "outputs": [
    {
     "data": {
      "text/plain": [
       "0.837741935483871"
      ]
     },
     "execution_count": 207,
     "metadata": {},
     "output_type": "execute_result"
    }
   ],
   "source": [
    "# Evaluate model on training data.\n",
    "model_nb.score(X_train, y_train)"
   ]
  },
  {
   "cell_type": "code",
   "execution_count": 208,
   "metadata": {
    "ExecuteTime": {
     "end_time": "2019-12-04T10:06:42.669746Z",
     "start_time": "2019-12-04T10:06:42.657786Z"
    }
   },
   "outputs": [
    {
     "data": {
      "text/plain": [
       "0.839458413926499"
      ]
     },
     "execution_count": 208,
     "metadata": {},
     "output_type": "execute_result"
    }
   ],
   "source": [
    "# Evaluate model on testing data.\n",
    "model_nb.score(X_test, y_test)"
   ]
  },
  {
   "cell_type": "markdown",
   "metadata": {},
   "source": [
    " <font color='green'> __The nb score is almost good 0.84__   </font> "
   ]
  },
  {
   "cell_type": "code",
   "execution_count": 209,
   "metadata": {
    "ExecuteTime": {
     "end_time": "2019-12-04T10:06:51.376062Z",
     "start_time": "2019-12-04T10:06:51.366792Z"
    }
   },
   "outputs": [],
   "source": [
    "# predictions for the test data\n",
    "pred = model_nb.predict(X_test)"
   ]
  },
  {
   "cell_type": "markdown",
   "metadata": {},
   "source": [
    "## Create the confusion matrix"
   ]
  },
  {
   "cell_type": "code",
   "execution_count": 210,
   "metadata": {
    "ExecuteTime": {
     "end_time": "2019-12-04T10:07:02.656286Z",
     "start_time": "2019-12-04T10:07:02.614335Z"
    }
   },
   "outputs": [
    {
     "name": "stdout",
     "output_type": "stream",
     "text": [
      "[[ 81   0   0   0   0   0  26   0   0   0   0   0   0   0   0   0   0   0]\n",
      " [  0   0   0   0   0   0  15   0   0   0   0   0   0   0   0   0   0   0]\n",
      " [  1   0   4   0   0   0   7   0   0   0   0   0   0   0   0   0   0   0]\n",
      " [  0   0   0   0   0   0   7   0   0   0   0   0   0   0   0   0   0   0]\n",
      " [  0   0   0   0   0   0   3   0   0   0   0   0   0   0   0   0   0   0]\n",
      " [  0   0   0   0   0   0   1   0   0   0   0   0   0   0   0   0   0   0]\n",
      " [ 11   0   0   0   0   0 729   0   1   0   0   0   0   0   0   0   0   0]\n",
      " [  0   0   0   0   0   0  11   1   0   0   0   0   0   0   0   0   0   0]\n",
      " [  0   0   0   0   0   0  11   0  48   0   0   0   0   0   0   0   0   0]\n",
      " [  1   0   0   0   0   0   3   0   2   0   0   0   0   0   0   0   0   0]\n",
      " [  0   0   0   0   0   0   1   0   0   0   0   0   0   0   0   0   0   0]\n",
      " [  0   0   0   0   0   0   2   0   0   0   0   0   0   0   0   0   0   0]\n",
      " [  0   0   0   0   0   0   3   0   0   0   0   0   0   0   0   0   0   0]\n",
      " [  0   0   0   0   0   0   3   0   0   0   0   0   0   0   0   0   0   0]\n",
      " [  0   0   0   0   0   0   1   0   0   0   0   0   0   0   0   0   0   0]\n",
      " [  0   0   0   0   0   0   1   0   0   0   0   0   0   0   0   0   0   0]\n",
      " [  0   0   0   0   0   0   6   0   0   0   0   0   0   0   0   0   0   0]\n",
      " [  3   0   0   0   0   0  46   0   0   0   0   0   0   0   0   0   0   5]]\n",
      "                      precision    recall  f1-score   support\n",
      "\n",
      "        أخبار العالم       0.84      0.76      0.79       107\n",
      "المملكةأخبار المناطق       0.00      0.00      0.00        15\n",
      "       المملكةإقتصاد       1.00      0.33      0.50        12\n",
      "        المملكةثقافة       0.00      0.00      0.00         7\n",
      "     المملكةصوتك وصل       0.00      0.00      0.00         3\n",
      "        المملكةمجتمع       0.00      0.00      0.00         1\n",
      "       المملكةمحليات       0.83      0.98      0.90       741\n",
      "  تقنيةأخبار التقنية       1.00      0.08      0.15        12\n",
      "  رياضةرياضة المملكة       0.94      0.81      0.87        59\n",
      "   رياضةرياضة عالمية       0.00      0.00      0.00         6\n",
      "     سياحةسفر وطيران       0.00      0.00      0.00         1\n",
      "   سياحةسياحة خارجية       0.00      0.00      0.00         2\n",
      "   سياحةسياحة داخلية       0.00      0.00      0.00         3\n",
      "   سياحةغرائب وعجائب       0.00      0.00      0.00         3\n",
      " سياحةفنادق ومنتجعات       0.00      0.00      0.00         1\n",
      "   سياحةوجهات داخلية       0.00      0.00      0.00         1\n",
      "سياراتأخبار السيارات       0.00      0.00      0.00         6\n",
      "               محطات       1.00      0.09      0.17        54\n",
      "\n",
      "            accuracy                           0.84      1034\n",
      "           macro avg       0.31      0.17      0.19      1034\n",
      "        weighted avg       0.81      0.84      0.79      1034\n",
      "\n"
     ]
    },
    {
     "name": "stderr",
     "output_type": "stream",
     "text": [
      "/Users/asmaa/opt/anaconda3/lib/python3.7/site-packages/sklearn/metrics/classification.py:1437: UndefinedMetricWarning: Precision and F-score are ill-defined and being set to 0.0 in labels with no predicted samples.\n",
      "  'precision', 'predicted', average, warn_for)\n"
     ]
    }
   ],
   "source": [
    "from sklearn.metrics import classification_report, confusion_matrix\n",
    "print (confusion_matrix(y_test, pred))\n",
    "print (classification_report(y_test, pred))"
   ]
  }
 ],
 "metadata": {
  "kernelspec": {
   "display_name": "Python 3",
   "language": "python",
   "name": "python3"
  },
  "language_info": {
   "codemirror_mode": {
    "name": "ipython",
    "version": 3
   },
   "file_extension": ".py",
   "mimetype": "text/x-python",
   "name": "python",
   "nbconvert_exporter": "python",
   "pygments_lexer": "ipython3",
   "version": "3.7.4"
  }
 },
 "nbformat": 4,
 "nbformat_minor": 2
}
